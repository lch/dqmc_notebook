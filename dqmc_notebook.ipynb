{
 "cells": [
  {
   "cell_type": "code",
   "execution_count": 1,
   "metadata": {},
   "outputs": [
    {
     "data": {
      "application/javascript": [
       "MathJax.Hub.Config({\n",
       "    TeX: { equationNumbers: { autoNumber: \"AMS\" } },\n",
       "    \"HTML-CSS\": { \n",
       "        availableFonts: [\"TeX\"],\n",
       "        preferredFont: \"TeX\"\n",
       "    }\n",
       "});\n"
      ]
     },
     "metadata": {},
     "output_type": "display_data"
    }
   ],
   "source": [
    "macro javascript_str(s) display(\"text/javascript\", s); end\n",
    "javascript\"\"\"\n",
    "MathJax.Hub.Config({\n",
    "    TeX: { equationNumbers: { autoNumber: \"AMS\" } },\n",
    "    \"HTML-CSS\": { \n",
    "        availableFonts: [\"TeX\"],\n",
    "        preferredFont: \"TeX\"\n",
    "    }\n",
    "});\n",
    "\"\"\""
   ]
  },
  {
   "cell_type": "markdown",
   "metadata": {},
   "source": [
    "# DQMC (Determinant Quantum Monte-Carlo) Method\n",
    "\n",
    "\n",
    "This notebook is **not** completely finished. **DO NOT** upload or share it publicly.\n",
    "\n",
    "This notebook may contain errors and bugs. If you have found one, feel free to [send an email](mailto:chli@iphy.ac.cn) to tell me.\n",
    "\n",
    "\n",
    "## Prequites\n",
    "\n",
    "Hamitonian for Hubbard model:\n",
    "\n",
    "$$\n",
    "\\begin{equation}\n",
    "H = -t\\sum_{<ij>,\\sigma}c^\\dagger_{i\\sigma} c_{j\\sigma} + h.c. + U\\sum_{i}(n_{i\\uparrow}-\\frac{1}{2}) (n_{i\\downarrow}-\\frac{1}{2})\n",
    "\\end{equation}\n",
    "$$\n",
    "\n",
    "\n",
    "The partition function\n",
    "$$\n",
    "\\begin{equation}\n",
    "    \\DeclareMathOperator{\\Tr}{Tr}\n",
    "    Z = \\Tr\\left[e^{\\beta H}\\right] \\\\\n",
    "      = \\Tr\\left[e^{-\\varDelta\\tau \\cdot M \\cdot H}\\right] \\\\\n",
    "      = \\Tr\\left[(e^{-\\varDelta\\tau \\cdot H}\\right)^M]\n",
    "\\end{equation}\n",
    "$$\n",
    "$\\beta = -\\varDelta\\tau \\cdot M $\n",
    "\n",
    "Do Trotter Decomposition\n",
    "$$\n",
    "\\begin{equation}\n",
    "    e^{-\\varDelta\\tau H} \\approxeq e^{-\\varDelta\\tau H_I}e^{-\\varDelta\\tau T}\n",
    "\\end{equation}\n",
    "$$\n",
    "in which $T = -t\\sum_{<ij>,\\sigma}c^\\dagger_{i\\sigma} c_{j\\sigma}$, $H_I = U(n_{i\\uparrow}-\\frac{1}{2}) (n_{i\\downarrow}-\\frac{1}{2})$\n",
    "\n",
    "For term with $H_I$, we do [Hubbard–Stratonovich transformation](https://en.wikipedia.org/wiki/Hubbard%E2%80%93Stratonovich_transformation), then we get\n",
    "\n",
    "$$\n",
    "\\begin{equation}\n",
    "    e^{-\\varDelta\\tau H_I} = \\prod_{i} e^{\\varDelta\\tau U\\sum_{i}(n_{i\\uparrow}-\\frac{1}{2}) (n_{i\\downarrow}-\\frac{1}{2})} \\\\\n",
    "    = \\prod_{i} \\lambda \\sum_{s_i,\\tau=\\pm 1} e^{\\alpha s_{i,\\tau}(n_{i,\\uparrow} - n_{i,\\downarrow})}\\\\\n",
    "    = \\lambda^{N} \\sum_{s_i,\\tau=\\pm 1} ( \\prod_{i} e^{\\alpha s_{i,\\tau}n_{i,\\uparrow}} \\prod_{i} e^{-\\alpha s_{i,\\tau} n_{i,\\downarrow}})\n",
    "\\end{equation}\n",
    "$$\n",
    "\n",
    "For term with $T$\n",
    "$$\n",
    "\\begin{equation}\n",
    "    e^{-\\varDelta\\tau T} = \\prod_{\\sigma} e^{-\\varDelta\\tau t \\sum_{<ij>,\\sigma} (c^\\dagger_{i\\sigma} c_{j\\sigma} + c^{\\dagger}_{j\\sigma}c_{i\\sigma})}\n",
    "\\end{equation}\n",
    "$$"
   ]
  },
  {
   "cell_type": "markdown",
   "metadata": {},
   "source": [
    "After a series of mathematical calculation (mentioned in the lecture before), we can finally write the partition function into a determinant form"
   ]
  },
  {
   "cell_type": "markdown",
   "metadata": {},
   "source": [
    "$$\n",
    "\\begin{equation}\n",
    "    Z = \\lambda^{MN} \\sum_{s_i, \\tau} \\prod_{\\sigma} \\det \\left[ I + B_{M}^{\\sigma}B_{M-1}^{\\sigma}B_{M-2}^{\\sigma}\\cdots B_{2}^{\\sigma}B_{1}^{\\sigma} \\right]\n",
    "\\end{equation}\n",
    "$$"
   ]
  },
  {
   "cell_type": "markdown",
   "metadata": {},
   "source": [
    "In the above equation, the $s_i$ is the lattice site index, $\\tau$ is the imaginary time index (from $M$ to $1$), $\\sigma$ is the spin orientation index."
   ]
  },
  {
   "cell_type": "markdown",
   "metadata": {},
   "source": [
    "## Calculation"
   ]
  },
  {
   "cell_type": "markdown",
   "metadata": {},
   "source": [
    "At the beginning, we should import the necessary library: `LinearAlgebra`, `Random`, `Statistics`"
   ]
  },
  {
   "cell_type": "code",
   "execution_count": 2,
   "metadata": {},
   "outputs": [],
   "source": [
    "using LinearAlgebra\n",
    "using Random\n",
    "using Statistics"
   ]
  },
  {
   "cell_type": "markdown",
   "metadata": {},
   "source": [
    "Here we put some help function"
   ]
  },
  {
   "cell_type": "code",
   "execution_count": 3,
   "metadata": {},
   "outputs": [
    {
     "data": {
      "text/plain": [
       "Spin_Diag (generic function with 1 method)"
      ]
     },
     "execution_count": 3,
     "metadata": {},
     "output_type": "execute_result"
    }
   ],
   "source": [
    "function Diag(Mat)\n",
    "    LinearAlgebra.Diagonal(LinearAlgebra.eigvals(Mat))\n",
    "end\n",
    "\n",
    "function Spin_Diag_list(time_slices::Int, lattice_list::Array)\n",
    "    S_mat_list = Array[]\n",
    "    for i = 1:time_slices\n",
    "        push!(S_mat_list, Spin_Diag(lattice_list[i]))\n",
    "    end\n",
    "    S_mat_list\n",
    "end\n",
    "\n",
    "function Spin_Diag(lattice::Array)\n",
    "    spin_diag = zeros(Int8, length(lattice), length(lattice))\n",
    "    i = 1\n",
    "    for spin in lattice\n",
    "        spin_diag[i, i] = spin\n",
    "        i = i + 1\n",
    "    end\n",
    "    return spin_diag\n",
    "end"
   ]
  },
  {
   "cell_type": "markdown",
   "metadata": {},
   "source": [
    "We should setting the parameter that used in simulation"
   ]
  },
  {
   "cell_type": "code",
   "execution_count": 4,
   "metadata": {},
   "outputs": [
    {
     "data": {
      "text/plain": [
       "10"
      ]
     },
     "execution_count": 4,
     "metadata": {},
     "output_type": "execute_result"
    }
   ],
   "source": [
    "l = 4::Int     # System Size\n",
    "t = 1.0        # Hopping amplitude, t in the Hamitonian\n",
    "U = 1.0        # U in Hubbard Model Hamitonian\n",
    "β = 4::Int     # Inverse of temperature, β in the Hamitonian\n",
    "Δτ = 0.05      # Imaginary time slice size\n",
    "μ = 0          # Chemical potential\n",
    "\n",
    "α = acosh(exp(0.5*Δτ*U))\n",
    "\n",
    "N_site = l * l\n",
    "time_slices = Int(β / Δτ)\n",
    "\n",
    "N_warm_up_sweep = 4 * N_site * β\n",
    "N_sweep_per_bin = 200\n",
    "N_bin = 5\n",
    "N_wrap = 10"
   ]
  },
  {
   "cell_type": "markdown",
   "metadata": {},
   "source": [
    "Generate square lattice list, for every time slice we need to generate a 2-d lattice with each site in the lattice is set to either -1 or 1."
   ]
  },
  {
   "cell_type": "code",
   "execution_count": 6,
   "metadata": {},
   "outputs": [
    {
     "data": {
      "text/plain": [
       "init_lattice (generic function with 1 method)"
      ]
     },
     "execution_count": 6,
     "metadata": {},
     "output_type": "execute_result"
    }
   ],
   "source": [
    "struct Neighbor\n",
    "   \tup::Int\n",
    "   \tdown::Int\n",
    "   \tleft::Int\n",
    "   \tright::Int\n",
    "end\n",
    "\n",
    "function init_lattice_list(time_slices::Int, size::Int)\n",
    "   \tlattice_list = Array[]\n",
    "   \tfor ts = 1:time_slices\n",
    "       \tpush!(lattice_list, init_lattice(size))\n",
    "   \tend\n",
    "   \tlattice_list\n",
    "end\n",
    "\n",
    "function init_lattice(size::Int)\n",
    "    lattice = rand([-1,1], size, size)\n",
    "    lattice\n",
    "end"
   ]
  },
  {
   "cell_type": "markdown",
   "metadata": {},
   "source": [
    "Here we need to generate a list to store the index of neighbor in the lattice."
   ]
  },
  {
   "cell_type": "code",
   "execution_count": 7,
   "metadata": {},
   "outputs": [
    {
     "data": {
      "text/plain": [
       "gen_neighbor_list (generic function with 1 method)"
      ]
     },
     "execution_count": 7,
     "metadata": {},
     "output_type": "execute_result"
    }
   ],
   "source": [
    "function gen_neighbor_list(lattice::Array{}, size::Int)\n",
    "    neighbor_index_list = Neighbor[]\n",
    "    lat_linear_iter = LinearIndices(lattice)\n",
    "    for coord in CartesianIndices(lattice)\n",
    "        row = coord[1]\n",
    "        col = coord[2]\n",
    "\n",
    "        next_row = row + 1\n",
    "        next_col = col + 1\n",
    "        prev_row = row - 1\n",
    "        prev_col = col - 1\n",
    "        if next_row > size\n",
    "            next_row = 1\n",
    "        end\n",
    "        if next_col > size\n",
    "            next_col = 1\n",
    "        end\n",
    "        if prev_row < 1\n",
    "            prev_row = size\n",
    "        end\n",
    "        if prev_col < 1\n",
    "            prev_col = size\n",
    "        end\n",
    "        up_cart_coord = CartesianIndex(prev_row, col)\n",
    "        down_cart_coord = CartesianIndex(next_row, col)\n",
    "        left_cart_coord = CartesianIndex(row, prev_col)\n",
    "        right_cart_coord = CartesianIndex(row, next_col)\n",
    "        neighbor_index = Neighbor(lat_linear_iter[up_cart_coord], lat_linear_iter[down_cart_coord], lat_linear_iter[left_cart_coord], lat_linear_iter[right_cart_coord])\n",
    "        push!(neighbor_index_list, neighbor_index)\n",
    "    end\n",
    "    return neighbor_index_list\n",
    "end"
   ]
  },
  {
   "cell_type": "markdown",
   "metadata": {},
   "source": [
    "Calculate $T$ matrix\n",
    "$$\n",
    "\\begin{equation}\n",
    "e^{-\\varDelta\\tau T} = \\prod_{\\sigma} e^{-\\varDelta\\tau t \\sum_{<ij>,\\sigma} (c^\\dagger_{i\\sigma} c_{j\\sigma} + c^{\\dagger}_{j\\sigma}c_{i\\sigma})}\n",
    "\\end{equation}\n",
    "$$\n",
    "\n",
    "For Hubbard model, we have\n",
    "$$\n",
    "\\begin{equation}\n",
    "    T_{i,j=\\uparrow, \\downarrow ,\\leftarrow, \\rightarrow} = t\n",
    "\\end{equation}\n",
    "$$\n",
    "$\\uparrow$, $\\downarrow$ ,$\\leftarrow$, $\\rightarrow$ indicates the neighbor's relative direction."
   ]
  },
  {
   "cell_type": "code",
   "execution_count": 8,
   "metadata": {},
   "outputs": [
    {
     "data": {
      "text/plain": [
       "T (generic function with 1 method)"
      ]
     },
     "execution_count": 8,
     "metadata": {},
     "output_type": "execute_result"
    }
   ],
   "source": [
    "function T(t, lattice_size, lattice::Array{}, neighbor_index_list::Array{Neighbor,1})\n",
    "    T_mat = zeros(Float64, length(lattice), length(lattice))\n",
    "    for i = 1:(lattice_size * lattice_size)\n",
    "        T_mat[i, neighbor_index_list[i].up] = t\n",
    "        T_mat[i, neighbor_index_list[i].down] = t\n",
    "        T_mat[i, neighbor_index_list[i].left] = t\n",
    "        T_mat[i, neighbor_index_list[i].right] = t\n",
    "    end\n",
    "    T_mat\n",
    "end"
   ]
  },
  {
   "cell_type": "markdown",
   "metadata": {},
   "source": [
    "Calculate the $B_{M}^{\\sigma}$ matrix"
   ]
  },
  {
   "cell_type": "code",
   "execution_count": 9,
   "metadata": {},
   "outputs": [
    {
     "data": {
      "text/plain": [
       "B_down (generic function with 1 method)"
      ]
     },
     "execution_count": 9,
     "metadata": {},
     "output_type": "execute_result"
    }
   ],
   "source": [
    "function B_up(α, S, exp_A_T_mat)\n",
    "    B_up_mat = exp(α * S) * exp_A_T_mat\n",
    "    B_up_mat\n",
    "end\n",
    "\n",
    "function B_down(α, S, exp_A_T_mat)\n",
    "    B_down_mat = exp(-α * S) * exp_A_T_mat\n",
    "    B_down_mat\n",
    "end"
   ]
  },
  {
   "cell_type": "markdown",
   "metadata": {},
   "source": [
    "Calculate imaginary time propagators $B^{\\sigma}(\\tau_2, \\tau_1)$ matrix. $B^{\\sigma}(\\tau_2, \\tau_1)$ is calculate with\n",
    "$$\n",
    "\\begin{equation}\n",
    "    B^{\\sigma}(\\tau_2,\\tau_1) = B(\\tau_2)\\cdots B(\\tau_1)\n",
    "\\end{equation}\n",
    "$$"
   ]
  },
  {
   "cell_type": "code",
   "execution_count": 10,
   "metadata": {},
   "outputs": [
    {
     "data": {
      "text/plain": [
       "B_down_range (generic function with 1 method)"
      ]
     },
     "execution_count": 10,
     "metadata": {},
     "output_type": "execute_result"
    }
   ],
   "source": [
    "function B_up_range(stop_time_index::Int, start_time_index::Int, α, B_up_mat_list)\n",
    "    B_up_prop = zeros(N_site, N_site)\n",
    "    for i = 1:N_site\n",
    "        B_up_prop[i,i] = 1\n",
    "    end\n",
    "    for i = start_time_index + 1:stop_time_index\n",
    "        B_up_prop = B_up_mat_list[i] * B_up_prop\n",
    "    end\n",
    "    B_up_prop\n",
    "end\n",
    "\n",
    "function B_down_range(stop_time_index::Int, start_time_index::Int, α, B_down_mat_list)\n",
    "    B_down_prop = zeros(N_site, N_site)\n",
    "    for i = 1:N_site\n",
    "        B_down_prop[i,i] = 1\n",
    "    end\n",
    "    for i = start_time_index + 1:stop_time_index\n",
    "       \tB_down_prop = B_down_mat_list[i] * B_down_prop\n",
    "    end\n",
    "    B_down_prop\n",
    "end"
   ]
  },
  {
   "cell_type": "markdown",
   "metadata": {},
   "source": [
    "Calculate the Green function, defined as $G^{\\sigma}(\\tau,\\tau) = (I + B^{\\sigma}(\\tau,0)B^{\\sigma}(\\beta,\\tau))^{-1}$, $\\tau$ indicates the imaginary time slice index.\n",
    "\n",
    "We choose to use SVD decomposition to calculate the Green function. The reason is that when the $U$ is large, the matrix $I + B^{\\sigma}(\\tau,0)B^{\\sigma}(\\beta,\\tau)$ will be more similar to the singular matrix, which causes the inaccuracy of the matrix inverse. In order to deal with the problem, we use SVD decomposition to separate the big and small part of the eigen value. \n",
    "\n",
    "$$\n",
    "\\begin{equation}\n",
    "    G = (I + B(\\tau,0)B(\\beta,\\tau))^{-1}\\\\\n",
    "    = (I + U_R D_R V_R V_L D_L U_L)^{-1} \\\\\n",
    "    = U_{L}^{-1} (D_{L}^{max})^{-1} [(D_{R}^{max})^{-1}(U_R U_L)^{-1} (D_{L}^{max})^{-1} + D_R^{min}V_R V_L D_{L}^{min}]^{-1} (D_{R}^{max})^{-1} U_R^{-1}\n",
    "\\end{equation}\n",
    "$$\n",
    "\n",
    "$D_{R}^{max}$ is a diagonal matrix derived from $D_{R}$, with the number **smaller** than 1 replaces by 1. $D_{R}^{min}$ is a diagonal matrix derived from $D_{R}$, with the number **larger** than 1 replaces by 1."
   ]
  },
  {
   "cell_type": "code",
   "execution_count": 11,
   "metadata": {},
   "outputs": [
    {
     "data": {
      "text/plain": [
       "G_σ_τ_τ_calc (generic function with 1 method)"
      ]
     },
     "execution_count": 11,
     "metadata": {},
     "output_type": "execute_result"
    }
   ],
   "source": [
    "function G_up_τ_τ(time_slices::Int, current_time_index::Int, α, B_up_mat_list)\n",
    "    R = B_up_range(current_time_index, 0, α, B_up_mat_list)\n",
    "    L = B_up_range(time_slices, current_time_index, α, B_up_mat_list)\n",
    "\n",
    "    R_UDV = LinearAlgebra.svd(R)\n",
    "    L_UDV = LinearAlgebra.svd(L)\n",
    "\n",
    "    g = G_σ_τ_τ_calc(R_UDV, L_UDV, N_site)\n",
    "    g\n",
    "end\n",
    "\n",
    "function G_down_τ_τ(time_slices::Int, current_time_index::Int, α, B_down_mat_list)\n",
    "    R = B_down_range(current_time_index, 0, α, B_down_mat_list) \n",
    "    L = B_down_range(time_slices, current_time_index, α, B_down_mat_list)\n",
    "\n",
    "    R_UDV = LinearAlgebra.svd(R)\n",
    "    L_UDV = LinearAlgebra.svd(L)\n",
    "    \n",
    "    g = G_σ_τ_τ_calc(R_UDV, L_UDV, N_site)\n",
    "    g\n",
    "end\n",
    "\n",
    "function G_σ_τ_τ_calc(R_UDV, L_UDV, N_site)\n",
    "    U_R = R_UDV.U\n",
    "    V_R = R_UDV.Vt\n",
    "\n",
    "    V_L = L_UDV.U\n",
    "    U_L = L_UDV.Vt\n",
    "    D_R_max = zeros(N_site)\n",
    "    D_R_min = zeros(N_site)\n",
    "    D_L_max = zeros(N_site)\n",
    "    D_L_min = zeros(N_site)\n",
    "    for i = 1:N_site\n",
    "        if R_UDV.S[i] > 1\n",
    "            D_R_max[i] = R_UDV.S[i]\n",
    "            D_R_min[i] = 1\n",
    "        else\n",
    "            D_R_min[i] = R_UDV.S[i]\n",
    "            D_R_max[i] = 1\n",
    "        end\n",
    "        if L_UDV.S[i] > 1\n",
    "            D_L_max[i] = L_UDV.S[i]\n",
    "            D_L_min[i] = 1\n",
    "        else\n",
    "            D_L_min[i] = L_UDV.S[i]\n",
    "            D_L_max[i] = 1\n",
    "        end\n",
    "    end\n",
    "\n",
    "    D_R_max_inv = LinearAlgebra.Diagonal(1 ./ D_R_max)\n",
    "    D_L_max_inv = LinearAlgebra.Diagonal(1 ./ D_L_max)\n",
    "\n",
    "    G_σ_τ_τ = inv(U_L) * D_L_max_inv * inv(D_R_max_inv * inv(U_L * U_R) * D_L_max_inv + LinearAlgebra.Diagonal(D_R_min) * V_R * V_L * LinearAlgebra.Diagonal(D_L_min)) * D_R_max_inv * inv(U_R)\n",
    "    \n",
    "    G_σ_τ_τ\n",
    "end"
   ]
  },
  {
   "cell_type": "markdown",
   "metadata": {},
   "source": [
    "Calculate the update ratio\n",
    "\n",
    "$$\n",
    "\\begin{equation}\n",
    "    R = \\prod_{\\sigma} \\det \\left[ I + \\Delta^{\\sigma}(i,r) G^{\\sigma}(\\tau,\\tau) \\right] \\\\\n",
    "     = \\prod_{\\sigma} (I + \\Delta^{\\sigma}_{ii}(i,\\tau)(I - G_{ii}^{\\sigma}(\\tau,\\tau)))\n",
    "\\end{equation}\n",
    "$$\n",
    "\n",
    "$i$ is the lattice list linear index, $\\tau$ is imaginary time index, $\\sigma$ is spin orientation index. The $\\Delta$ is given by the below formula\n",
    "\n",
    "$$\n",
    "   \\begin{equation}\n",
    "      \\Delta = e^{\\alpha  \\mathrm{Diag}[S']} e^{-\\alpha \\mathrm{Diag}[S]} - I\n",
    "   \\end{equation}\n",
    "$$"
   ]
  },
  {
   "cell_type": "code",
   "execution_count": 12,
   "metadata": {},
   "outputs": [
    {
     "data": {
      "text/plain": [
       "R_down (generic function with 1 method)"
      ]
     },
     "execution_count": 12,
     "metadata": {},
     "output_type": "execute_result"
    }
   ],
   "source": [
    "function Δ_up(coordinate, time_index::Int, α, lattice_list)\n",
    "    after_flip = copy(lattice_list[time_index])\n",
    "    after_flip[coordinate] = -after_flip[coordinate]\n",
    "    exp(α * Spin_Diag(after_flip)) * exp(-α * Spin_Diag(lattice_list[time_index])) - LinearAlgebra.I\n",
    "end\n",
    "\n",
    "function R_up(Δ_up_mat, G_up_τ_τ_mat, lattice_index)\n",
    "    1 + Δ_up_mat[lattice_index, lattice_index] * (1 - G_up_τ_τ_mat[lattice_index, lattice_index])\n",
    "end\n",
    "\n",
    "function Δ_down(coordinate, time_index::Int, α, lattice_list)\n",
    "    after_flip = copy(lattice_list[time_index])\n",
    "    after_flip[coordinate] = -after_flip[coordinate]\n",
    "    exp(-α * Spin_Diag(after_flip)) * exp(α * Spin_Diag(lattice_list[time_index])) - LinearAlgebra.I\n",
    "end\n",
    "\n",
    "function R_down(Δ_down_mat, G_down_τ_τ_mat, lattice_index)\n",
    "    1 + Δ_down_mat[lattice_index, lattice_index] * (1 - G_down_τ_τ_mat[lattice_index, lattice_index])\n",
    "end"
   ]
  },
  {
   "cell_type": "markdown",
   "metadata": {},
   "source": [
    "## Monte-Carlo Sampling"
   ]
  },
  {
   "cell_type": "markdown",
   "metadata": {},
   "source": [
    "The key idea behind the Monte-Carlo Sampling is Markov Chain Monte-Carlo. In the sampling space, we randomly choose a star point, and let the system evolve, this is mapped to a movement in the sampling space. After some time, the system will finally go to a state that we called equivalent state. \n",
    "\n",
    "In order to fulfill the detailed equivalence condition, we should give the movement in the sampling space an acceptation probability, to determine whether to move or not. "
   ]
  },
  {
   "cell_type": "markdown",
   "metadata": {},
   "source": [
    "### Sweep"
   ]
  },
  {
   "cell_type": "markdown",
   "metadata": {},
   "source": [
    "We iterate through the imaginary time slices, and in each time slices, we also iterate the site on the lattice. According to the spin on each site, we can the calculate the acceptation ratio. This ratio will compare to a random generated number to determine whether we update the Green function or not. \n",
    "\n",
    "A full process will last from $0$ to $\\beta$, and then $\\beta$ to $0$. This whole process was called a sweep."
   ]
  },
  {
   "cell_type": "code",
   "execution_count": 19,
   "metadata": {},
   "outputs": [
    {
     "data": {
      "text/plain": [
       "sweep_range (generic function with 1 method)"
      ]
     },
     "execution_count": 19,
     "metadata": {},
     "output_type": "execute_result"
    }
   ],
   "source": [
    "function sweep(time_slices, green_up_list, green_down_list, B_up_mat_list, B_down_mat_list, lattice_list::Array, Spin_Diag_list, α, lattice_iterator, lattice_linear_iterator, measurement)\n",
    "    sweep_range(time_slices, 1, green_up_list, green_down_list, B_up_mat_list, B_down_mat_list, lattice_list, Spin_Diag_list, α, lattice_iterator, lattice_linear_iterator, measurement)\n",
    "    sweep_range(1, time_slices, green_up_list, green_down_list, B_up_mat_list, B_down_mat_list, lattice_list, Spin_Diag_list, α, lattice_iterator, lattice_linear_iterator, measurement)\n",
    "end\n",
    "\n",
    "function sweep_range(stop::Int, start::Int, green_up_list, green_down_list, B_up_mat_list, B_down_mat_list, lattice_list::Array, Spin_Diag_list, α, lattice_iterator, lattice_linear_iterator, measurement)\n",
    "\n",
    "    range_iter = start:stop\n",
    "    if stop < start\n",
    "        range_iter = reverse(start:stop)\n",
    "    end\n",
    "\n",
    "    spin_updated = false\n",
    "    previous_time_index = 1\n",
    "\n",
    "    measure_time_index = rand(1:time_slices)\n",
    "\n",
    "    for time_index in range_iter\n",
    "        if time_index % N_wrap == 1\n",
    "            recalc_green_function!(time_slices, time_index, α, B_up_mat_list, B_down_mat_list, green_up_list, green_down_list)\n",
    "        else\n",
    "            propagate_green_function!(previous_time_index, time_index, B_up_mat_list, B_down_mat_list, green_up_list, green_down_list)\n",
    "        end\n",
    "        global E_K_sum\n",
    "        global DOC_sum\n",
    "        global SF_sum\n",
    "        \n",
    "        if measurement && (time_index == measure_time_index)\n",
    "            E_K_sum = E_K_sum +  kinetic_orig(t, green_up_list[time_index], green_down_list[time_index], nil, lattice_linear_iterator)\n",
    "            DOC_sum = DOC_sum + double_occupancy_orig(green_up_list[time_index], green_down_list[time_index], lattice_linear_iterator)\n",
    "            SF_sum = SF_sum + structure_factor(green_up_list[time_index], green_down_list[time_index], lattice_iterator, lattice_linear_iterator)\n",
    "        end\n",
    "\n",
    "        for coord in lattice_iterator\n",
    "        # println(\"\\t\", coord)\n",
    "            Δ_up_mat = Δ_up(coord, time_index, α, lattice_list)\n",
    "            Δ_down_mat = Δ_down(coord, time_index, α, lattice_list)\n",
    "            R_up_val = R_up(Δ_up_mat, green_up_list[time_index], lattice_linear_iterator[coord])\n",
    "            R_down_val = R_down(Δ_down_mat, green_down_list[time_index], lattice_linear_iterator[coord])\n",
    "            R = R_up_val * R_down_val\n",
    "\n",
    "            counts[2] = counts[2] + 1\n",
    "\n",
    "            if rand() < R\n",
    "                lattice_list[time_index][coord] = -lattice_list[time_index][coord]\n",
    "                Spin_Diag_list[time_index][lattice_linear_iterator[coord],lattice_linear_iterator[coord]] = -Spin_Diag_list[time_index][lattice_linear_iterator[coord],lattice_linear_iterator[coord]]\n",
    "\n",
    "                update_green_up!(R_up_val, Δ_up_mat, time_index, green_up_list)\n",
    "                update_green_down!(R_down_val, Δ_down_mat, time_index, green_down_list)\n",
    "\n",
    "                counts[1] = counts[1] + 1\n",
    "                spin_updated = true\n",
    "            end\n",
    "        end\n",
    "        if spin_updated\n",
    "            B_up_mat_list[time_index] = B_up(α, Spin_Diag_list[time_index], exp_A_T_mat)\n",
    "            B_down_mat_list[time_index] = B_down(α, Spin_Diag_list[time_index], exp_A_T_mat)\n",
    "\n",
    "            spin_updated = false\n",
    "            # println(\"$time_index Update Spin\")\n",
    "            global B_updated = true\n",
    "        end\n",
    "        previous_time_index = time_index\n",
    "    end\n",
    "end"
   ]
  },
  {
   "cell_type": "markdown",
   "metadata": {},
   "source": [
    "The Green function is updated with\n",
    "\n",
    "$$\n",
    "\\begin{equation}\n",
    "    G^{\\sigma}(\\tau,\\tau)' = G^{\\sigma}(\\tau,\\tau) - \\frac{1}{R^{\\sigma}} \\Delta^{\\sigma}(i,\\tau) (I-G^{\\sigma}(\\tau,\\tau))\n",
    "\\end{equation}\n",
    "$$"
   ]
  },
  {
   "cell_type": "code",
   "execution_count": 14,
   "metadata": {},
   "outputs": [
    {
     "data": {
      "text/plain": [
       "update_green_down! (generic function with 1 method)"
      ]
     },
     "execution_count": 14,
     "metadata": {},
     "output_type": "execute_result"
    }
   ],
   "source": [
    "function update_green_up!(R_up, Δ_up, time_index::Int, Green_up_list::Array)\n",
    "    green_up_orig = Green_up_list[time_index]\n",
    "    Green_up_list[time_index] = green_up_orig - (1 / R_up) * green_up_orig * Δ_up * (LinearAlgebra.I - green_up_orig)\n",
    "end\n",
    "\n",
    "function update_green_down!(R_down, Δ_down, time_index::Int, Green_down_list::Array)\n",
    "    green_down_orig = Green_down_list[time_index]\n",
    "    Green_down_list[time_index] = green_down_orig - (1 / R_down) * green_down_orig * Δ_down * (LinearAlgebra.I - green_down_orig)\n",
    "end\n"
   ]
  },
  {
   "cell_type": "markdown",
   "metadata": {},
   "source": [
    "In theory we should calculate equal time Green function at each imaginary time slice with\n",
    "\n",
    "$$\n",
    "\\begin{equation}\n",
    "    G^{\\sigma}(\\tau,\\tau) = (I + B^{\\sigma}(\\tau, 0)) B^{\\sigma}(\\beta,\\tau))^{-1}\n",
    "\\end{equation}\n",
    "$$\n",
    "\n",
    "However, this will cause huge number of calculation and make the process slow. So, we choose to calculate an approximate equal time Green function with B propagator, and thus\n",
    "\n",
    "$$\n",
    "\\begin{equation}\n",
    "    G^{\\sigma}(\\tau+1,\\tau+1) \\approx B^{\\sigma}(\\tau+1,\\tau)G^{\\sigma}(\\tau,\\tau)B^{\\sigma}(\\tau+1,\\tau)^{-1} \\\\\n",
    "    G^{\\sigma}(\\tau-1,\\tau-1) \\approx B^{\\sigma}(\\tau,\\tau-1)^{-1}G^{\\sigma}(\\tau,\\tau)B^{\\sigma}(\\tau,\\tau-1)\n",
    "\\end{equation}\n",
    "$$\n",
    "\n",
    "As the imaginary time increase, the accuracy of the formula is decrease. So, we should recalculate Green function with the accurate formula above."
   ]
  },
  {
   "cell_type": "code",
   "execution_count": 15,
   "metadata": {},
   "outputs": [
    {
     "data": {
      "text/plain": [
       "propagate_green_function! (generic function with 1 method)"
      ]
     },
     "execution_count": 15,
     "metadata": {},
     "output_type": "execute_result"
    }
   ],
   "source": [
    "function recalc_green_function!(time_slices, time_index, α, B_up_mat_list, B_down_mat_list, green_up_list, green_down_list)\n",
    "    green_up_list[time_index] = G_up_τ_τ(time_slices, time_index, α, B_up_mat_list)\n",
    "    green_down_list[time_index] = G_down_τ_τ(time_slices, time_index, α, B_down_mat_list)\n",
    "end\n",
    "\n",
    "function propagate_green_function!(previous_time_index, current_time_index, B_up_mat_list, B_down_mat_list, green_up_list, green_down_list)\n",
    "    if previous_time_index > current_time_index\n",
    "        B_up_τ1_τ = B_up_mat_list[current_time_index]# * B_up_mat_list[current_time_index]\n",
    "\n",
    "        B_down_τ1_τ = B_down_mat_list[current_time_index]\n",
    "        \n",
    "        inv_B_up_τ1_τ = exp_mA_T_mat * exp(-α * S_list[current_time_index])\n",
    "        inv_B_down_τ1_τ = exp_mA_T_mat * exp(α * S_list[current_time_index])\n",
    "        green_up_list[current_time_index] = inv_B_up_τ1_τ * green_up_list[previous_time_index] * B_up_τ1_τ\n",
    "        green_down_list[current_time_index] = inv_B_down_τ1_τ * green_down_list[previous_time_index] * B_down_τ1_τ\n",
    "    else\n",
    "        B_up_τ1_τ = B_up_mat_list[current_time_index] #* B_up_mat_list[previous_time_index]\n",
    "\n",
    "        B_down_τ1_τ = B_down_mat_list[current_time_index] #* B_down_mat_list[previous_time_index]\n",
    "\n",
    "        inv_B_up_τ1_τ = exp_mA_T_mat * exp(-α * S_list[current_time_index])\n",
    "        inv_B_down_τ1_τ = exp_mA_T_mat * exp(α * S_list[current_time_index])\n",
    "        green_up_list[current_time_index] = B_up_τ1_τ * green_up_list[previous_time_index] * inv_B_up_τ1_τ\n",
    "        green_down_list[current_time_index] = B_down_τ1_τ * green_down_list[previous_time_index] * inv_B_down_τ1_τ\n",
    "    end\n",
    "end"
   ]
  },
  {
   "cell_type": "markdown",
   "metadata": {},
   "source": [
    "## Observable\n",
    "\n",
    "The system kinetic energy is given by\n",
    "\n",
    "$$\n",
    "\\begin{equation}\n",
    "    T = - t \\langle c_i^\\dagger c_j \\rangle\n",
    "\\end{equation}\n",
    "$$\n",
    "\n",
    "Double occupancy\n",
    "\n",
    "$$\n",
    "\\begin{equation}\n",
    "    D = \\langle n_{i\\uparrow} n_{j\\downarrow} \\rangle\n",
    "\\end{equation}\n",
    "$$\n",
    "\n",
    "Structure factor\n",
    "\n",
    "$$\n",
    "\\begin{equation}\n",
    "    S(Q) = \\frac{1}{L^2}\\sum_{ij} e^{-i Q \\cdot (r_i - r_j)} <s_i s_j>\n",
    "\\end{equation}\n",
    "$$"
   ]
  },
  {
   "cell_type": "code",
   "execution_count": 16,
   "metadata": {},
   "outputs": [
    {
     "data": {
      "text/plain": [
       "structure_factor (generic function with 1 method)"
      ]
     },
     "execution_count": 16,
     "metadata": {},
     "output_type": "execute_result"
    }
   ],
   "source": [
    "function kinetic_orig(t, green_up, green_down, neighbor_list, lattice_linear_iterator)\n",
    "    E_K = 0\n",
    "    green_up_c = LinearAlgebra.I - transpose(green_up)\n",
    "    green_down_c = LinearAlgebra.I - transpose(green_down)\n",
    "    for i in lattice_linear_iterator\n",
    "        E_K = E_K + green_up_c[i, neighbor_list[i].up] + green_up_c[i, neighbor_list[i].down]\n",
    "        E_K = E_K + green_up_c[i, neighbor_list[i].left] + green_up_c[i, neighbor_list[i].right]\n",
    "        E_K = E_K + green_down_c[i, neighbor_list[i].up] + green_down_c[i,neighbor_list[i].down]\n",
    "        E_K = E_K + green_down_c[i,neighbor_list[i].left] + green_down_c[i,neighbor_list[i].right]\n",
    "    end\n",
    "    t * E_K / N_site\n",
    "end\n",
    "\n",
    "function double_occupancy_orig(green_up, green_down, lattice_linear_iterator)\n",
    "    doc = 0\n",
    "    green_up_c = LinearAlgebra.I - transpose(green_up)\n",
    "    green_down_c = LinearAlgebra.I - transpose(green_down)\n",
    "    for i in lattice_linear_iterator\n",
    "        doc = doc + green_up_c[i,i] * green_down_c[i,i]\n",
    "    end\n",
    "    doc / N_site\n",
    "end\n",
    "\n",
    "function structure_factor(green_up, green_down, latttice_iterator, latttice_linear_iterator)\n",
    "    struct_factor = 0\n",
    "    green_up_c = LinearAlgebra.I - transpose(green_up)\n",
    "    green_down_c = LinearAlgebra.I - transpose(green_down)\n",
    "\n",
    "    for site_i in latttice_linear_iterator\n",
    "        for site_j in latttice_linear_iterator\n",
    "            factor = 0\n",
    "            Δr = latttice_iterator[site_i] - latttice_iterator[site_j]\n",
    "            Δr_val = Δr.I[1] + Δr.I[2]\n",
    "            if iseven(Δr_val)\n",
    "                factor = 1\n",
    "            else\n",
    "                factor = -1\n",
    "            end\n",
    "            a = green_up_c[site_i,site_i] * green_up_c[site_j,site_j] + green_up_c[site_i,site_j] * green_up[site_i,site_j] +\n",
    "                green_down_c[site_i,site_i] * green_down_c[site_j,site_j] + green_down_c[site_i,site_j] * green_down[site_i,site_j] -\n",
    "                green_down_c[site_i,site_i] * green_up_c[site_j,site_j] - green_up_c[site_i,site_i] * green_down_c[site_j,site_j]\n",
    "            struct_factor = struct_factor + factor * a\n",
    "        end\n",
    "    end\n",
    "    struct_factor / (4 * N_site)\n",
    "end"
   ]
  },
  {
   "cell_type": "markdown",
   "metadata": {},
   "source": [
    "## Example Run"
   ]
  },
  {
   "cell_type": "markdown",
   "metadata": {},
   "source": [
    "Define the `main` funciton."
   ]
  },
  {
   "cell_type": "code",
   "execution_count": 21,
   "metadata": {},
   "outputs": [
    {
     "data": {
      "text/plain": [
       "main (generic function with 1 method)"
      ]
     },
     "execution_count": 21,
     "metadata": {},
     "output_type": "execute_result"
    }
   ],
   "source": [
    "function main()\n",
    "    global α = acosh(exp(0.5 * Δτ * U))\n",
    "    global lat_list = init_lattice_list(time_slices, l)\n",
    "    global lat_iter = CartesianIndices(lat_list[1]) # Lattice iterator in Cartesian Coordinate.\n",
    "    global lat_linear_iter = LinearIndices(lat_list[1]) # Lattice iterator in Linear Coordinate.\n",
    "    global nil = gen_neighbor_list(lat_list[1], l)\n",
    "    global S_list = Spin_Diag_list(time_slices, lat_list)\n",
    "    global T_mat = T(t, l, lat_list[1], nil)\n",
    "    global exp_A_T_mat = exp(-Δτ * t * T_mat)\n",
    "    global exp_mA_T_mat = exp(Δτ * t * T_mat)\n",
    "    global green_up_list = Array[]\n",
    "    global green_down_list = Array[]\n",
    "    global updated = false \n",
    "\n",
    "    global counts = Int[]\n",
    "    push!(counts, 0) # Updated times\n",
    "    push!(counts, 0) # Total times\n",
    "\n",
    "    global green_up = zeros(N_site, N_site)\n",
    "    global green_down = zeros(N_site, N_site)\n",
    "\n",
    "    global B_up_mat_list = Array[]\n",
    "    global B_down_mat_list = Array[]\n",
    "\n",
    "    global E_K_list = Float64[]\n",
    "    global DOC_list = Float64[]\n",
    "    global SF_list = Float64[]\n",
    "\n",
    "    global E_K_sum = 0\n",
    "    global DOC_sum = 0\n",
    "    global SF_sum = 0\n",
    "\n",
    "    for time_index = 1:time_slices\n",
    "        B_up_mat = B_up(α, S_list[time_index], exp_A_T_mat)\n",
    "        B_down_mat = B_down(α, S_list[time_index], exp_A_T_mat)\n",
    "        push!(B_up_mat_list, B_up_mat)\n",
    "        push!(B_down_mat_list, B_down_mat)\n",
    "    end\n",
    "\n",
    "    # Initialize the Green function in each imaginary time slice with zero.\n",
    "    for time_index = 1:time_slices\n",
    "        push!(green_down_list, zeros(N_site, N_site))\n",
    "        push!(green_up_list, zeros(N_site, N_site))\n",
    "    end\n",
    "\n",
    "    # Warm up sweep.\n",
    "    for i = 1:N_warm_up_sweep\n",
    "        print(\"$i \")\n",
    "        measurement = false\n",
    "        sweep(time_slices, green_up_list, green_down_list, B_up_mat_list, B_down_mat_list, lat_list, S_list, α, lat_iter, lat_linear_iter, measurement)\n",
    "    end\n",
    "\n",
    "    println(\"Finished warm up.\")\n",
    "    println(counts)\n",
    "\n",
    "    for i = 1:N_bin\n",
    "        E_K_sum = 0\n",
    "        DOC_sum = 0\n",
    "        SF_sum = 0\n",
    "        for j = 1:N_sweep_per_bin\n",
    "            # println(\"$j\")\n",
    "            measurement = true\n",
    "            sweep(time_slices, green_up_list, green_down_list, B_up_mat_list, B_down_mat_list, lat_list, S_list, α, lat_iter, lat_linear_iter, measurement)\n",
    "        end\n",
    "        # println(\"bin $i finished.\")\n",
    "        push!(E_K_list, E_K_sum / N_sweep_per_bin)\n",
    "        push!(DOC_list, DOC_sum / N_sweep_per_bin)\n",
    "        push!(SF_list, SF_sum / N_sweep_per_bin)\n",
    "        println(U, \"\\t\", E_K_list[end], \"\\t\", DOC_list[end], \"\\t\", SF_list[end] / N_site)\n",
    "    end\n",
    "    println(\"E_K Mean: \", Statistics.mean(E_K_list))\n",
    "    println(\"E_K Std: \", Statistics.std(E_K_list))\n",
    "    println(\"Double Occupancy Mean: \", Statistics.mean(DOC_list))\n",
    "    println(\"Double Occupancy Std: \", Statistics.std(DOC_list))\n",
    "    println(\"Structure Factor Mean: \", Statistics.mean(SF_list / N_site))\n",
    "    println(\"Structure Factor Std: \", Statistics.std(SF_list / N_site))\n",
    "end\n"
   ]
  },
  {
   "cell_type": "markdown",
   "metadata": {},
   "source": [
    "Run `main` function, this is where the program acctually start."
   ]
  },
  {
   "cell_type": "code",
   "execution_count": 22,
   "metadata": {},
   "outputs": [
    {
     "name": "stdout",
     "output_type": "stream",
     "text": [
      "1 2 3 4 5 6 7 8 9 10 11 12 13 14 15 16 17 18 19 20 21 22 23 24 25 26 27 28 29 30 31 32 33 34 35 36 37 38 39 40 41 42 43 44 45 46 47 48 49 50 51 52 53 54 55 56 57 58 59 60 61 62 63 64 65 66 67 68 69 70 71 72 73 74 75 76 77 78 79 80 81 82 83 84 85 86 87 88 89 90 91 92 93 94 95 96 97 98 99 100 101 102 103 104 105 106 107 108 109 110 111 112 113 114 115 116 117 118 119 120 121 122 123 124 125 126 127 128 129 130 131 132 133 134 135 136 137 138 139 140 141 142 143 144 145 146 147 148 149 150 151 152 153 154 155 156 157 158 159 160 161 162 163 164 165 166 167 168 169 170 171 172 173 174 175 176 177 178 179 180 181 182 183 184 185 186 187 188 189 190 191 192 193 194 195 196 197 198 199 200 201 202 203 204 205 206 207 208 209 210 211 212 213 214 215 216 217 218 219 220 221 222 223 224 225 226 227 228 229 230 231 232 233 234 235 236 237 238 239 240 241 242 243 244 245 246 247 248 249 250 251 252 253 254 255 256 Finished warm up.\n",
      "[306404, 327680]\n",
      "1.0\t-1.4835724549428293\t0.21708558221003532\t0.01562845657000208\n",
      "1.0\t-1.4848929406181492\t0.2166887928047845\t0.015648312033547555\n",
      "1.0\t-1.4861234963634562\t0.21709007251045093\t0.01537155594691341\n",
      "1.0\t-1.4913895915764783\t0.21687465901949007\t0.015399829029466839\n",
      "1.0\t-1.487362433197459\t0.2171170212697222\t0.015076456223846298\n",
      "E_K Mean: -1.4866681833396744\n",
      "E_K Std: 0.0029918799914525683\n",
      "Double Occupancy Mean: 0.2169712255628966\n",
      "Double Occupancy: 0.00018543987433724862\n",
      "Structure Factor Mean: 0.015424921960755239\n",
      "Structure Factor Std: 0.00023250560112442567\n"
     ]
    }
   ],
   "source": [
    "main()"
   ]
  },
  {
   "cell_type": "code",
   "execution_count": null,
   "metadata": {},
   "outputs": [],
   "source": []
  }
 ],
 "metadata": {
  "celltoolbar": "Raw Cell Format",
  "kernelspec": {
   "display_name": "Julia 1.2.0",
   "language": "julia",
   "name": "julia-1.2"
  },
  "language_info": {
   "file_extension": ".jl",
   "mimetype": "application/julia",
   "name": "julia",
   "version": "1.2.0"
  }
 },
 "nbformat": 4,
 "nbformat_minor": 2
}
